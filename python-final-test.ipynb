{
 "cells": [
  {
   "cell_type": "markdown",
   "id": "56156861",
   "metadata": {},
   "source": [
    "### Question 2"
   ]
  },
  {
   "cell_type": "code",
   "execution_count": 15,
   "id": "d6852dc0",
   "metadata": {},
   "outputs": [
    {
     "ename": "IndentationError",
     "evalue": "unindent does not match any outer indentation level (<tokenize>, line 61)",
     "output_type": "error",
     "traceback": [
      "\u001b[1;36m  File \u001b[1;32m<tokenize>:61\u001b[1;36m\u001b[0m\n\u001b[1;33m    elif not user:\u001b[0m\n\u001b[1;37m    ^\u001b[0m\n\u001b[1;31mIndentationError\u001b[0m\u001b[1;31m:\u001b[0m unindent does not match any outer indentation level\n"
     ]
    }
   ],
   "source": [
    "class book():\n",
    "    def __init__ (self,title,author,isbn,is_borrowed):\n",
    "        self.title = title\n",
    "        self.author = author\n",
    "        self.isbn = isbn\n",
    "        self.is_borrowed = is_borrwed\n",
    "    def borrow(self,is_borrowed):\n",
    "        self.is_borrowd = True\n",
    "    def return_book(self,is_borrowed):\n",
    "        self.is_borrowed = False\n",
    "        \n",
    "class digital_book(book):\n",
    "    def __init__(self,title,author,isbn,is_borrowed,file_format):\n",
    "        book().__init__(self,title,author,isbn,is_borrowed)\n",
    "        self.file_format = file_format\n",
    "    def borrow(self):\n",
    "        print(f\"The book can be accessed online\")\n",
    "        \n",
    "        \n",
    "class audio_book(book):\n",
    "    def __init__(self,title,author,isbn,is_borrowed,duration : float):\n",
    "        book().__init(self,title,author,isbn,is_borrowed)\n",
    "        self.duration : float = duration : float\n",
    "    def borrow(self):\n",
    "        print(f\"the audiobook is available for streaming.\")\n",
    "        \n",
    "        \n",
    "class user(book):\n",
    "    def __init__(self,user_id : str,name : str,borrowed_books : list):\n",
    "        self.user_id = user_id\n",
    "        self.name = name\n",
    "        self.borrowed_books = borrowed_books\n",
    "    def borrow_book(self,book):\n",
    "        borrwed_books = borrwed_books.append(book) \n",
    "    def return_book(self,book):\n",
    "        return_books = borrwed_books.remove(book)\n",
    "        \n",
    "class library():\n",
    "    def __init__(self,name : str,books : list,users : list):\n",
    "        self.name = name \n",
    "        self.books = books\n",
    "        self.users = users\n",
    "\n",
    "    def add_book(self,book):\n",
    "        self.books.append(book)\n",
    "        print(f\"{self.books}\")\n",
    "    def register_user(self,user):\n",
    "        self.users.append(user)\n",
    "        print(f\"{self.user}\")\n",
    "    def lend_book(self,user_id,isbn):\n",
    "    \n",
    "            if user and book:\n",
    "                user.borrow_book(book)\n",
    "            elif not user:\n",
    "                print(f\"User with ID {user_id} not found.\")\n",
    "            elif not book:\n",
    "                print(f\"Book with isbn {isbn} not found.\")\n",
    "    def receive_return(self,user_id,isbn):\n",
    "             if user and book:\n",
    "                user.return_book(book)\n",
    "            elif not user:\n",
    "                print(f\"User with ID {user_id} not found.\")\n",
    "            elif not book:\n",
    "                print(f\"Book with ISBN {isbn} not found.\")\n",
    "\n",
    "    \n",
    "\n",
    "    \n",
    "    \n",
    "        \n",
    "\n",
    "        \n",
    "        \n",
    "    \n",
    "        \n",
    "    "
   ]
  },
  {
   "cell_type": "code",
   "execution_count": 10,
   "id": "f194f0db",
   "metadata": {},
   "outputs": [],
   "source": [
    "def analyze_file(filename):\n",
    "    try:\n",
    "        with open(filename, 'r') as file:\n",
    "            text = file.read()\n",
    "            lines = text.splitlines()\n",
    "            words = text.split()\n",
    "            characters = len(text)\n",
    "\n",
    "            return {\n",
    "                'characters': characters,\n",
    "                'words': len(words),\n",
    "                'lines': len(lines)\n",
    "            }\n",
    "    except FileNotFoundError:\n",
    "        print(f\"Error: The file '{filename}' was not found.\")\n",
    "        return None\n",
    "    "
   ]
  },
  {
   "cell_type": "code",
   "execution_count": 11,
   "id": "5cbf1dc6",
   "metadata": {},
   "outputs": [
    {
     "data": {
      "text/plain": [
       "{'characters': 36, 'words': 6, 'lines': 2}"
      ]
     },
     "execution_count": 11,
     "metadata": {},
     "output_type": "execute_result"
    }
   ],
   "source": [
    "analyze_file('python.txt')"
   ]
  },
  {
   "cell_type": "code",
   "execution_count": 12,
   "id": "f15ff1ec",
   "metadata": {},
   "outputs": [],
   "source": [
    "def search_word(filename, word):\n",
    "    try:\n",
    "        with open(filename, 'r') as file:\n",
    "            text = file.read()\n",
    "            word_count = text.lower().split().count(word.lower())\n",
    "            return word_count\n",
    "    except FileNotFoundError:\n",
    "        print(f\"Error: The file '{filename}' was not found.\")\n",
    "        return None\n",
    "    "
   ]
  },
  {
   "cell_type": "code",
   "execution_count": 13,
   "id": "5c2c8166",
   "metadata": {},
   "outputs": [
    {
     "data": {
      "text/plain": [
       "1"
      ]
     },
     "execution_count": 13,
     "metadata": {},
     "output_type": "execute_result"
    }
   ],
   "source": [
    "search_word('python.txt','saylani')"
   ]
  },
  {
   "cell_type": "code",
   "execution_count": null,
   "id": "a9973898",
   "metadata": {},
   "outputs": [],
   "source": []
  }
 ],
 "metadata": {
  "kernelspec": {
   "display_name": "Python 3 (ipykernel)",
   "language": "python",
   "name": "python3"
  },
  "language_info": {
   "codemirror_mode": {
    "name": "ipython",
    "version": 3
   },
   "file_extension": ".py",
   "mimetype": "text/x-python",
   "name": "python",
   "nbconvert_exporter": "python",
   "pygments_lexer": "ipython3",
   "version": "3.11.5"
  }
 },
 "nbformat": 4,
 "nbformat_minor": 5
}
